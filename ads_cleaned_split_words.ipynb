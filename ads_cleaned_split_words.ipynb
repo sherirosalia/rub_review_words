{
 "cells": [
  {
   "cell_type": "code",
   "execution_count": 25,
   "metadata": {},
   "outputs": [],
   "source": [
    "import collections\n",
    "from collections import Counter\n",
    "import re\n",
    "import os\n",
    "import pandas as pd\n",
    "import numpy as np\n",
    "import string\n",
    "import json\n",
    "import string\n",
    "import csv\n",
    "\n",
    "\n"
   ]
  },
  {
   "cell_type": "code",
   "execution_count": 3,
   "metadata": {},
   "outputs": [
    {
     "output_type": "execute_result",
     "data": {
      "text/plain": "         name         phone  \\\n96  Grape Spa  619-501-5991   \n\n                                              address  \\\n96  1025 W. Laurel Street               San Diego,...   \n\n                                             page_url  \\\n96  https://www.rubmaps.ch/erotic-massage-grape-sp...   \n\n                                         search_field  \n96  review_lick_kitty,review_sex, ,review_kissing,...  ",
      "text/html": "<div>\n<style scoped>\n    .dataframe tbody tr th:only-of-type {\n        vertical-align: middle;\n    }\n\n    .dataframe tbody tr th {\n        vertical-align: top;\n    }\n\n    .dataframe thead th {\n        text-align: right;\n    }\n</style>\n<table border=\"1\" class=\"dataframe\">\n  <thead>\n    <tr style=\"text-align: right;\">\n      <th></th>\n      <th>name</th>\n      <th>phone</th>\n      <th>address</th>\n      <th>page_url</th>\n      <th>search_field</th>\n    </tr>\n  </thead>\n  <tbody>\n    <tr>\n      <th>96</th>\n      <td>Grape Spa</td>\n      <td>619-501-5991</td>\n      <td>1025 W. Laurel Street               San Diego,...</td>\n      <td>https://www.rubmaps.ch/erotic-massage-grape-sp...</td>\n      <td>review_lick_kitty,review_sex, ,review_kissing,...</td>\n    </tr>\n  </tbody>\n</table>\n</div>"
     },
     "metadata": {},
     "execution_count": 3
    }
   ],
   "source": [
    "flagdf=pd.read_csv('CSV/rubmap_review_flags.csv')\n",
    "flagdf.sample()"
   ]
  },
  {
   "cell_type": "code",
   "execution_count": 5,
   "metadata": {},
   "outputs": [
    {
     "output_type": "execute_result",
     "data": {
      "text/plain": "              name                         phone  \\\n0  4 Body/FootCare                  858-522-0898   \n1            9 spa  858-291-9687 or 858-209-4377   \n2        A New You                  619-684-5187   \n3            A Spa                  858-314-0251   \n4          ABC Spa                (626) 313-1777   \n\n                                             address  \\\n0  4456 Vandever Ave. #4               San Diego,...   \n1  2710 Garnet Ave               San Diego, CA, 9...   \n2    6110 Friars                San Diego, CA, 92108   \n3  4805 Mercury St,  Suite D               San Di...   \n4  4442 Vandever Ave               San Diego, CA,...   \n\n                                            page_url  \\\n0  https://www.rubmaps.ch/erotic-massage-4-bodyfo...   \n1  https://www.rubmaps.ch/erotic-massage-9-spa-sa...   \n2  https://www.rubmaps.ch/erotic-massage-a-new-yo...   \n3  https://www.rubmaps.ch/erotic-massage-a-spa-sa...   \n4  https://www.rubmaps.ch/erotic-massage-abc-spa-...   \n\n                                        search_field  \n0                                                     \n1  review_blow_job, ,review_prostate_massage,revi...  \n2  review_prostate_massage, ,review_hand_job,revi...  \n3  review_lick_kitty,review_blow_job, ,review_pro...  \n4  review_sex,review_kissing,review_finger_kitty,...  ",
      "text/html": "<div>\n<style scoped>\n    .dataframe tbody tr th:only-of-type {\n        vertical-align: middle;\n    }\n\n    .dataframe tbody tr th {\n        vertical-align: top;\n    }\n\n    .dataframe thead th {\n        text-align: right;\n    }\n</style>\n<table border=\"1\" class=\"dataframe\">\n  <thead>\n    <tr style=\"text-align: right;\">\n      <th></th>\n      <th>name</th>\n      <th>phone</th>\n      <th>address</th>\n      <th>page_url</th>\n      <th>search_field</th>\n    </tr>\n  </thead>\n  <tbody>\n    <tr>\n      <th>0</th>\n      <td>4 Body/FootCare</td>\n      <td>858-522-0898</td>\n      <td>4456 Vandever Ave. #4               San Diego,...</td>\n      <td>https://www.rubmaps.ch/erotic-massage-4-bodyfo...</td>\n      <td></td>\n    </tr>\n    <tr>\n      <th>1</th>\n      <td>9 spa</td>\n      <td>858-291-9687 or 858-209-4377</td>\n      <td>2710 Garnet Ave               San Diego, CA, 9...</td>\n      <td>https://www.rubmaps.ch/erotic-massage-9-spa-sa...</td>\n      <td>review_blow_job, ,review_prostate_massage,revi...</td>\n    </tr>\n    <tr>\n      <th>2</th>\n      <td>A New You</td>\n      <td>619-684-5187</td>\n      <td>6110 Friars                San Diego, CA, 92108</td>\n      <td>https://www.rubmaps.ch/erotic-massage-a-new-yo...</td>\n      <td>review_prostate_massage, ,review_hand_job,revi...</td>\n    </tr>\n    <tr>\n      <th>3</th>\n      <td>A Spa</td>\n      <td>858-314-0251</td>\n      <td>4805 Mercury St,  Suite D               San Di...</td>\n      <td>https://www.rubmaps.ch/erotic-massage-a-spa-sa...</td>\n      <td>review_lick_kitty,review_blow_job, ,review_pro...</td>\n    </tr>\n    <tr>\n      <th>4</th>\n      <td>ABC Spa</td>\n      <td>(626) 313-1777</td>\n      <td>4442 Vandever Ave               San Diego, CA,...</td>\n      <td>https://www.rubmaps.ch/erotic-massage-abc-spa-...</td>\n      <td>review_sex,review_kissing,review_finger_kitty,...</td>\n    </tr>\n  </tbody>\n</table>\n</div>"
     },
     "metadata": {},
     "execution_count": 5
    }
   ],
   "source": [
    "flagdf= flagdf.replace(r'\\\\n',' ', regex=True) \n",
    "flagdf.head()"
   ]
  },
  {
   "cell_type": "code",
   "execution_count": 6,
   "metadata": {},
   "outputs": [],
   "source": [
    "list=[]\n",
    "for x in flagdf['search_field']:\n",
    "    if x == ' ':\n",
    "        continue\n",
    "    else:\n",
    "        list.append(x)\n",
    "\n",
    "#list"
   ]
  },
  {
   "cell_type": "code",
   "execution_count": 7,
   "metadata": {},
   "outputs": [],
   "source": [
    "with open('search_field.txt', 'w') as filehandle:\n",
    "    for listitem in list:\n",
    "        filehandle.write(listitem)"
   ]
  },
  {
   "cell_type": "code",
   "execution_count": null,
   "metadata": {},
   "outputs": [],
   "source": []
  },
  {
   "cell_type": "code",
   "execution_count": 8,
   "metadata": {},
   "outputs": [
    {
     "output_type": "execute_result",
     "data": {
      "text/plain": "          username provider_name review_date  \\\n1772  erectionrick        Sophia  02.26 2017   \n\n                                            review_text  \\\n1772  \\n\\n  Parking is brutal. Very busy area with l...   \n\n                                              place_url  \n1772  https://www.rubmaps.ch/erotic-massage-massage-...  ",
      "text/html": "<div>\n<style scoped>\n    .dataframe tbody tr th:only-of-type {\n        vertical-align: middle;\n    }\n\n    .dataframe tbody tr th {\n        vertical-align: top;\n    }\n\n    .dataframe thead th {\n        text-align: right;\n    }\n</style>\n<table border=\"1\" class=\"dataframe\">\n  <thead>\n    <tr style=\"text-align: right;\">\n      <th></th>\n      <th>username</th>\n      <th>provider_name</th>\n      <th>review_date</th>\n      <th>review_text</th>\n      <th>place_url</th>\n    </tr>\n  </thead>\n  <tbody>\n    <tr>\n      <th>1772</th>\n      <td>erectionrick</td>\n      <td>Sophia</td>\n      <td>02.26 2017</td>\n      <td>\\n\\n  Parking is brutal. Very busy area with l...</td>\n      <td>https://www.rubmaps.ch/erotic-massage-massage-...</td>\n    </tr>\n  </tbody>\n</table>\n</div>"
     },
     "metadata": {},
     "execution_count": 8
    }
   ],
   "source": [
    "revdf=pd.read_csv('CSV/rubmap_allreviews.csv')\n",
    " \n",
    "\n",
    "revdf.sample()"
   ]
  },
  {
   "cell_type": "code",
   "execution_count": 9,
   "metadata": {
    "tags": []
   },
   "outputs": [
    {
     "output_type": "execute_result",
     "data": {
      "text/plain": "[\"\\n\\n  Very comfortable room clean not too shabby  \\n\\n\\n\\tBeem here many times always pretty nice and girls are so so most the time but fairly decent you cannot get full service but you can definitely get a good rub and tug there. I did get offered full service next time I went but I doubt bthat's will happen. Will not be able to find the same girl I don't know how looks like anymore.\\r\\n\\r\\nYou're able to rub on their butts filling their tits but that's about it and they'll jerk you off\\n\",\n '\\n\\n  OPEN LATE AND ROOMS TOO SMALL  \\n\\n\\n\\tI HAVE BEEN GOING HERE QUITE A WHILE AND IT HAS TAKEN SEVERAL VISITS BEFORE AMY GAVE ME FS.  SO IF YOU THINK YOUR FITST VISIT WILL GET YOU FS DONT HOLD YOUR BREATH.  MASSAGE WAS GOOD AND ON THE FLIP SHE ASKED HOW I WAS DOING AND WAS TOUCHING ME WHICH WAS GETTING ME IN THE MOOD. AS SOON AS SHE SAW IT GROW SHE ASKED WHAT I WANTED TO DO AND LIKE I ALWAYS WOULD SAY FS NOT EXPECTING HER TO SAY OK SHE SAID $80 I COULDNT GET THE MONEY OUT FAST ENOUGH I WAS SURPRISED SHE WENT ALONG. NOTHING EVTRADIONARY HOWEVER SHE DID LET ME GO DOWNSTAIRS FOR A TASTE AND THE REST WAS YOUR STD. MISS AND A LITTLE DOGGY STYLE. WE WENT RIGHT TO THE HOUR SHE CLEANED ME UP LEFT THE ROOM AND I DIDNT SEE HER UNTIL I WLKED OUT THE DOOR. I SAID THANKS AND GAVE HER A HUG.  I PROBABLY WONT TRY FS WITH HER AGAIN WE JUST DIDNT CLICK AND SHE DIDNT SEEM LIKE SHE ENJOYED IT MUCH EITHER. SHE WILL NEED TO KNOW YOU BEFORE FS SO BE PATIENT WITH HER.\\n',\n \"\\n\\n  Lisa was my girl and she was booming!. I usually don't come to parlors that are close to work for obvious reasons but i was dog tired and needed a much urgent release. They take good care of you here and are very nice and professional when you're booking with them. Lisa was playful and very down to earth.  \\n\\n\\n\\tLisa spoke good english and that made it easy to get along just fine. Lead to room, got comfortable, got undressed and laid down on the table. Got an ok massage and ended up with a nice slow HJ. Lisa says she is from California, and that she recently moved here (Think it was BS to be honest but i followed along) . She said she didn't do everything but later asked for Tip upfront!!! Wow, I must have looked like a newbie cause she kept saying $80 for HJ. I told her $40 is my usual tip for just HJ. She might be worth it if I was really horny. Right now the HJ will do just fine we agreed on $50. Next time she told me to ask for her and she'll take good care of me. Guess that might be code for FS?. lol you tell me. PM if you've done FS with Lisa.\\n\"]"
     },
     "metadata": {},
     "execution_count": 9
    }
   ],
   "source": [
    "reviews=[]\n",
    "for review in revdf['review_text']:\n",
    "    if review is not None:\n",
    "        reviews.append(review)\n",
    "reviews[0:3]"
   ]
  },
  {
   "cell_type": "code",
   "execution_count": 37,
   "metadata": {},
   "outputs": [],
   "source": [
    "#remove \\t\n",
    "reviews_cleaning = []\n",
    "with open('CSV/review_text.txt', \"r\") as rev_lines_file:\n",
    "    for line in rev_lines_file:\n",
    "        rev_lines =  line.strip(' \\t')\n",
    "        # rem_lines =  line.strip('\\n\\n')\n",
    "        \n",
    "        reviews_cleaning.append(rev_lines)"
   ]
  },
  {
   "cell_type": "code",
   "execution_count": 38,
   "metadata": {},
   "outputs": [],
   "source": [
    "#overwrite what we just did into original file\n",
    "with open('CSV/reviews_cleaned.txt', 'w') as f:\n",
    "    for cleaned_review in reviews_cleaning:\n",
    "        f.write(cleaned_review)"
   ]
  },
  {
   "cell_type": "code",
   "execution_count": null,
   "metadata": {},
   "outputs": [],
   "source": []
  },
  {
   "cell_type": "code",
   "execution_count": 39,
   "metadata": {},
   "outputs": [],
   "source": [
    "# first get all lines from file\n",
    "with open('search_field.txt', \"r\") as f:\n",
    "    lines = f.readlines()\n",
    "\n",
    "# remove spaces\n",
    "lines = [line.replace(' ', '') for line in lines]\n",
    "# finally, write lines in the file\n",
    "with open('search_field.txt', 'w') as f:\n",
    "    f.writelines(lines)"
   ]
  },
  {
   "cell_type": "code",
   "execution_count": null,
   "metadata": {
    "tags": [
     "outputPrepend"
    ]
   },
   "outputs": [],
   "source": []
  },
  {
   "cell_type": "code",
   "execution_count": 40,
   "metadata": {
    "tags": []
   },
   "outputs": [],
   "source": [
    "services_cleaning = []\n",
    "with open('search_field.txt', \"r\") as serv_lines_file:\n",
    "    for line in serv_lines_file:\n",
    "        serv_lines =  line.strip(' ')\n",
    "        serv_lines =  line.strip(',')\n",
    "        serv_lines = line.replace(' ', '')\n",
    "        serv_lines = line.replace(', ,', ',')\n",
    "        serv_lines = line.replace(',  ,', ',')\n",
    "\n",
    "        services_cleaning.append(serv_lines)\n",
    "        \n"
   ]
  },
  {
   "cell_type": "code",
   "execution_count": 41,
   "metadata": {},
   "outputs": [],
   "source": [
    "#overwrite what we just did into original file\n",
    "with open('CSV/search_field.txt', 'w') as f:\n",
    "    for services in services_cleaning:\n",
    "        f.write(services)"
   ]
  },
  {
   "cell_type": "code",
   "execution_count": 42,
   "metadata": {},
   "outputs": [],
   "source": [
    "# first get all lines from file\n",
    "with open('CSV/search_field.txt', \"r\") as f:\n",
    "    lines = f.readlines()\n",
    "\n",
    "# remove spaces\n",
    "lines = [line.replace(' ', '') for line in lines]\n",
    "# finally, write lines in the file\n",
    "with open('search_field.txt', 'w') as f:\n",
    "    f.writelines(lines)"
   ]
  },
  {
   "cell_type": "code",
   "execution_count": 43,
   "metadata": {},
   "outputs": [],
   "source": [
    "# write over again\n",
    "filename = 'CSV/search_field.txt'\n",
    "file = open(filename, 'rt')\n",
    "text = file.read()\n",
    "file.close()"
   ]
  },
  {
   "cell_type": "code",
   "execution_count": 44,
   "metadata": {},
   "outputs": [
    {
     "output_type": "execute_result",
     "data": {
      "text/plain": "['review_blow_job',\n '',\n 'review_prostate_massage',\n 'review_lick_kitty',\n 'review_sex',\n 'review_kissing',\n 'review_finger_kitty',\n 'review_hand_job',\n 'review_breast_play',\n 'review_ass_playreview_prostate_massage',\n '',\n 'review_hand_job',\n 'review_breast_play',\n 'review_ass_playreview_lick_kitty',\n 'review_blow_job',\n '',\n 'review_prostate_massage',\n 'review_finger_kitty',\n 'review_sex',\n 'review_kissing']"
     },
     "metadata": {},
     "execution_count": 44
    }
   ],
   "source": [
    "#split strings\n",
    "words = text.split(',')\n",
    "\n",
    "\n",
    "words = [word.lower() for word in words]\n",
    "words[:20]"
   ]
  },
  {
   "cell_type": "code",
   "execution_count": 45,
   "metadata": {},
   "outputs": [],
   "source": [
    "\n",
    "without_empty_strings = [string for string in words if string != \"\"]"
   ]
  },
  {
   "cell_type": "code",
   "execution_count": 46,
   "metadata": {
    "tags": []
   },
   "outputs": [
    {
     "output_type": "stream",
     "name": "stdout",
     "text": "['reviewblowjob', 'reviewprostatemassage', 'reviewlickkitty', 'reviewsex', 'reviewkissing', 'reviewfingerkitty', 'reviewhandjob', 'reviewbreastplay', 'reviewassplayreviewprostatemassage', 'reviewhandjob', 'reviewbreastplay', 'reviewassplayreviewlickkitty', 'reviewblowjob', 'reviewprostatemassage', 'reviewfingerkitty', 'reviewsex', 'reviewkissing', 'reviewhandjob', 'reviewbreastplay', 'reviewassplayreviewsex', 'reviewkissing', 'reviewfingerkitty', 'reviewhandjob', 'reviewbreastplay', 'reviewassplay', 'reviewhandjob', 'reviewassplay', 'reviewprostatemassage', 'reviewhandjob', 'reviewbreastplay', 'reviewassplayreviewblowjob', 'reviewlickkitty', 'reviewsex', 'reviewkissing', 'reviewfingerkitty', 'reviewbreastplay', 'reviewhandjob', 'reviewassplay', 'reviewblowjob', 'reviewkissing', 'reviewhandjob', 'reviewprostatemassage', 'reviewkissing', 'reviewbreastplay', 'reviewhandjob', 'reviewassplayreviewhandjob', 'reviewbreastplay', 'reviewassplay', 'reviewprostatemassage', 'reviewlickkitty', 'reviewsex', 'reviewfingerkitty', 'reviewhandjob', 'reviewbreastplay', 'reviewassplayreviewlickkitty', 'reviewfingerkitty', 'reviewkissing', 'reviewhandjob', 'reviewbreastplay', 'reviewassplay', 'reviewhandjobreviewprostatemassage', 'reviewkissing', 'reviewbreastplay', 'reviewhandjob', 'reviewassplayreviewlickkitty', 'reviewsex', 'reviewblowjob', 'reviewfingerkitty', 'reviewkissing', 'reviewhandjob', 'reviewbreastplay', 'reviewassplayreviewblowjob', 'reviewprostatemassage', 'reviewlickkitty', 'reviewsex', 'reviewkissing', 'reviewfingerkitty', 'reviewbreastplay', 'reviewhandjob', 'reviewassplay', 'reviewblowjob', 'reviewlickkitty', 'reviewsex', 'reviewkissing', 'reviewfingerkitty', 'reviewbreastplay', 'reviewhandjob', 'reviewassplay', 'reviewblowjob', 'reviewprostatemassage', 'reviewlickkitty', 'reviewsex', 'reviewkissing', 'reviewfingerkitty', 'reviewhandjob', 'reviewbreastplay', 'reviewassplayreviewblowjob', 'reviewprostatemassage', 'reviewlickkitty', 'reviewsex', 'reviewkissing', 'reviewfingerkitty', 'reviewhandjob', 'reviewbreastplay', 'reviewassplayreviewlickkitty', 'reviewsex', 'reviewblowjob', 'reviewprostatemassage', 'reviewkissing', 'reviewfingerkitty', 'reviewhandjob', 'reviewbreastplay', 'reviewassplayreviewlickkitty', 'reviewsex', 'reviewkissing', 'reviewfingerkitty', 'reviewhandjob', 'reviewbreastplay', 'reviewassplay', 'reviewbreastplay', 'reviewhandjob', 'reviewassplay', 'reviewhandjob', 'reviewassplay', 'reviewhandjob', 'reviewbreastplay', 'reviewassplay', 'reviewfingerkitty', 'reviewlickkitty', 'reviewsex', 'reviewhandjob', 'reviewbreastplay', 'reviewassplayreviewlickkitty', 'reviewsex', 'reviewkissing', 'reviewfingerkitty', 'reviewhandjob', 'reviewbreastplay', 'reviewassplay', 'reviewfingerkitty', 'reviewkissing', 'reviewhandjob', 'reviewbreastplay', 'reviewassplay', 'reviewprostatemassage', 'reviewfingerkitty', 'reviewlickkitty', 'reviewkissing', 'reviewhandjob', 'reviewbreastplay', 'reviewassplay', 'reviewprostatemassage', 'reviewfingerkitty', 'reviewlickkitty', 'reviewsex', 'reviewkissing', 'reviewblowjob', 'reviewhandjob', 'reviewbreastplay', 'reviewassplayreviewblowjob', 'reviewlickkitty', 'reviewsex', 'reviewkissing', 'reviewfingerkitty', 'reviewbreastplay', 'reviewhandjob', 'reviewassplay', 'reviewfingerkitty', 'reviewbreastplay', 'reviewhandjob', 'reviewassplayreviewprostatemassage', 'reviewkissing', 'reviewbreastplay', 'reviewhandjob', 'reviewassplay', 'reviewbreastplay', 'reviewhandjob', 'reviewassplay', 'reviewblowjob', 'reviewlickkitty', 'reviewsex', 'reviewprostatemassage', 'reviewkissing', 'reviewfingerkitty', 'reviewhandjob', 'reviewbreastplay', 'reviewassplay', 'reviewbreastplay', 'reviewassplay', 'reviewhandjobreviewblowjob', 'reviewprostatemassage', 'reviewfingerkitty', 'reviewlickkitty', 'reviewsex', 'reviewkissing', 'reviewhandjob', 'reviewbreastplay', 'reviewassplayreviewlickkitty', 'reviewprostatemassage', 'reviewkissing', 'reviewfingerkitty', 'reviewhandjob', 'reviewbreastplay', 'reviewassplay', 'reviewprostatemassage', 'reviewlickkitty', 'reviewsex', 'reviewkissing', 'reviewblowjob', 'reviewfingerkitty', 'reviewhandjob', 'reviewbreastplay', 'reviewassplayreviewblowjob', 'reviewhandjob', 'reviewbreastplay', 'reviewassplay', 'reviewblowjob', 'reviewkissing', 'reviewfingerkitty', 'reviewbreastplay', 'reviewhandjob', 'reviewassplay', 'reviewprostatemassage', 'reviewhandjob', 'reviewbreastplay', 'reviewassplayreviewlickkitty', 'reviewsex', 'reviewblowjob', 'reviewprostatemassage', 'reviewfingerkitty', 'reviewkissing', 'reviewhandjob', 'reviewbreastplay', 'reviewassplayreviewlickkitty', 'reviewprostatemassage', 'reviewkissing', 'reviewfingerkitty', 'reviewhandjob', 'reviewbreastplay', 'reviewassplayreviewblowjob', 'reviewlickkitty', 'reviewsex', 'reviewkissing', 'reviewfingerkitty', 'reviewhandjob', 'reviewbreastplay', 'reviewassplayreviewblowjob', 'reviewlickkitty', 'reviewsex', 'reviewprostatemassage', 'reviewkissing', 'reviewfingerkitty', 'reviewbreastplay', 'reviewhandjob', 'reviewassplay', 'reviewhandjob', 'reviewbreastplay', 'reviewassplay', 'reviewprostatemassage', 'reviewkissing', 'reviewfingerkitty', 'reviewhandjob', 'reviewbreastplay', 'reviewassplayreviewhandjob', 'reviewbreastplay', 'reviewassplay', 'reviewprostatemassage', 'reviewfingerkitty', 'reviewlickkitty', 'reviewsex', 'reviewkissing', 'reviewhandjob', 'reviewbreastplay', 'reviewassplayreviewprostatemassage', 'reviewlickkitty', 'reviewsex', 'reviewkissing', 'reviewfingerkitty', 'reviewhandjob', 'reviewbreastplay', 'reviewassplay', 'reviewkissing', 'reviewhandjob', 'reviewbreastplay', 'reviewassplay', 'reviewprostatemassage', 'reviewhandjob', 'reviewbreastplay', 'reviewassplayreviewblowjob', 'reviewlickkitty', 'reviewkissing', 'reviewfingerkitty', 'reviewbreastplay', 'reviewhandjob', 'reviewassplay', 'reviewhandjob', 'reviewassplay', 'reviewprostatemassage', 'reviewsex', 'reviewhandjob']\n"
    }
   ],
   "source": [
    "\n",
    "table = str.maketrans('', '', string.punctuation)\n",
    "stripped = [w.translate(table) for w in without_empty_strings]\n",
    "print(stripped[:300])"
   ]
  },
  {
   "cell_type": "code",
   "execution_count": 47,
   "metadata": {
    "tags": []
   },
   "outputs": [
    {
     "output_type": "stream",
     "name": "stdout",
     "text": "[('review_hand_job', 209), ('review_breast_play', 205), ('review_finger_kitty', 145), ('review_ass_play', 125), ('review_kissing', 122), ('review_sex', 93), ('review_prostate_massage', 86), ('review_lick_kitty', 84), ('review_blow_job', 39), ('review_ass_playreview_blow_job', 34), ('review_ass_playreview_prostate_massage', 15), ('review_ass_playreview_lick_kitty', 15), ('review_ass_playreview_sex', 9), ('review_ass_playreview_hand_job', 6), ('review_ass_playreview_breast_play', 5), ('review_hand_jobreview_blow_job', 4), ('review_ass_playreview_kissing', 4), ('review_ass_playreview_finger_kitty', 3), ('review_hand_jobreview_prostate_massage', 1), ('review_breast_playreview_hand_job', 1), ('review_ass_playreview_ass_play', 1)]\n"
    }
   ],
   "source": [
    "\n",
    "service_top_100 = Counter(without_empty_strings).most_common(100)\n",
    "print(service_top_100)"
   ]
  },
  {
   "cell_type": "code",
   "execution_count": 48,
   "metadata": {},
   "outputs": [
    {
     "output_type": "execute_result",
     "data": {
      "text/plain": "                                  key_word  frequency\n0                          review_hand_job        209\n1                       review_breast_play        205\n2                      review_finger_kitty        145\n3                          review_ass_play        125\n4                           review_kissing        122\n5                               review_sex         93\n6                  review_prostate_massage         86\n7                        review_lick_kitty         84\n8                          review_blow_job         39\n9           review_ass_playreview_blow_job         34\n10  review_ass_playreview_prostate_massage         15\n11        review_ass_playreview_lick_kitty         15\n12               review_ass_playreview_sex          9\n13          review_ass_playreview_hand_job          6\n14       review_ass_playreview_breast_play          5\n15          review_hand_jobreview_blow_job          4\n16           review_ass_playreview_kissing          4\n17      review_ass_playreview_finger_kitty          3\n18  review_hand_jobreview_prostate_massage          1\n19       review_breast_playreview_hand_job          1",
      "text/html": "<div>\n<style scoped>\n    .dataframe tbody tr th:only-of-type {\n        vertical-align: middle;\n    }\n\n    .dataframe tbody tr th {\n        vertical-align: top;\n    }\n\n    .dataframe thead th {\n        text-align: right;\n    }\n</style>\n<table border=\"1\" class=\"dataframe\">\n  <thead>\n    <tr style=\"text-align: right;\">\n      <th></th>\n      <th>key_word</th>\n      <th>frequency</th>\n    </tr>\n  </thead>\n  <tbody>\n    <tr>\n      <th>0</th>\n      <td>review_hand_job</td>\n      <td>209</td>\n    </tr>\n    <tr>\n      <th>1</th>\n      <td>review_breast_play</td>\n      <td>205</td>\n    </tr>\n    <tr>\n      <th>2</th>\n      <td>review_finger_kitty</td>\n      <td>145</td>\n    </tr>\n    <tr>\n      <th>3</th>\n      <td>review_ass_play</td>\n      <td>125</td>\n    </tr>\n    <tr>\n      <th>4</th>\n      <td>review_kissing</td>\n      <td>122</td>\n    </tr>\n    <tr>\n      <th>5</th>\n      <td>review_sex</td>\n      <td>93</td>\n    </tr>\n    <tr>\n      <th>6</th>\n      <td>review_prostate_massage</td>\n      <td>86</td>\n    </tr>\n    <tr>\n      <th>7</th>\n      <td>review_lick_kitty</td>\n      <td>84</td>\n    </tr>\n    <tr>\n      <th>8</th>\n      <td>review_blow_job</td>\n      <td>39</td>\n    </tr>\n    <tr>\n      <th>9</th>\n      <td>review_ass_playreview_blow_job</td>\n      <td>34</td>\n    </tr>\n    <tr>\n      <th>10</th>\n      <td>review_ass_playreview_prostate_massage</td>\n      <td>15</td>\n    </tr>\n    <tr>\n      <th>11</th>\n      <td>review_ass_playreview_lick_kitty</td>\n      <td>15</td>\n    </tr>\n    <tr>\n      <th>12</th>\n      <td>review_ass_playreview_sex</td>\n      <td>9</td>\n    </tr>\n    <tr>\n      <th>13</th>\n      <td>review_ass_playreview_hand_job</td>\n      <td>6</td>\n    </tr>\n    <tr>\n      <th>14</th>\n      <td>review_ass_playreview_breast_play</td>\n      <td>5</td>\n    </tr>\n    <tr>\n      <th>15</th>\n      <td>review_hand_jobreview_blow_job</td>\n      <td>4</td>\n    </tr>\n    <tr>\n      <th>16</th>\n      <td>review_ass_playreview_kissing</td>\n      <td>4</td>\n    </tr>\n    <tr>\n      <th>17</th>\n      <td>review_ass_playreview_finger_kitty</td>\n      <td>3</td>\n    </tr>\n    <tr>\n      <th>18</th>\n      <td>review_hand_jobreview_prostate_massage</td>\n      <td>1</td>\n    </tr>\n    <tr>\n      <th>19</th>\n      <td>review_breast_playreview_hand_job</td>\n      <td>1</td>\n    </tr>\n  </tbody>\n</table>\n</div>"
     },
     "metadata": {},
     "execution_count": 48
    }
   ],
   "source": [
    "# create DataFrame using data \n",
    "service_df = pd.DataFrame(service_top_100, columns =['key_word', 'frequency'], index=None) \n",
    "  \n",
    "service_df.head(20)"
   ]
  },
  {
   "cell_type": "code",
   "execution_count": 49,
   "metadata": {},
   "outputs": [
    {
     "output_type": "execute_result",
     "data": {
      "text/plain": "              key_word  frequency\n0      review_hand_job        209\n1   review_breast_play        205\n2  review_finger_kitty        145\n3      review_ass_play        125\n4       review_kissing        122",
      "text/html": "<div>\n<style scoped>\n    .dataframe tbody tr th:only-of-type {\n        vertical-align: middle;\n    }\n\n    .dataframe tbody tr th {\n        vertical-align: top;\n    }\n\n    .dataframe thead th {\n        text-align: right;\n    }\n</style>\n<table border=\"1\" class=\"dataframe\">\n  <thead>\n    <tr style=\"text-align: right;\">\n      <th></th>\n      <th>key_word</th>\n      <th>frequency</th>\n    </tr>\n  </thead>\n  <tbody>\n    <tr>\n      <th>0</th>\n      <td>review_hand_job</td>\n      <td>209</td>\n    </tr>\n    <tr>\n      <th>1</th>\n      <td>review_breast_play</td>\n      <td>205</td>\n    </tr>\n    <tr>\n      <th>2</th>\n      <td>review_finger_kitty</td>\n      <td>145</td>\n    </tr>\n    <tr>\n      <th>3</th>\n      <td>review_ass_play</td>\n      <td>125</td>\n    </tr>\n    <tr>\n      <th>4</th>\n      <td>review_kissing</td>\n      <td>122</td>\n    </tr>\n  </tbody>\n</table>\n</div>"
     },
     "metadata": {},
     "execution_count": 49
    }
   ],
   "source": [
    "service_df=service_df.reset_index(drop=True)\n",
    "service_df.head()"
   ]
  },
  {
   "cell_type": "code",
   "execution_count": 50,
   "metadata": {},
   "outputs": [],
   "source": [
    "service_df.to_csv('top_100_service.csv', index=False)"
   ]
  },
  {
   "cell_type": "code",
   "execution_count": null,
   "metadata": {},
   "outputs": [],
   "source": []
  }
 ],
 "metadata": {
  "kernelspec": {
   "display_name": "Python 3",
   "language": "python",
   "name": "python3"
  },
  "language_info": {
   "codemirror_mode": {
    "name": "ipython",
    "version": 3
   },
   "file_extension": ".py",
   "mimetype": "text/x-python",
   "name": "python",
   "nbconvert_exporter": "python",
   "pygments_lexer": "ipython3",
   "version": "3.7.4-final"
  }
 },
 "nbformat": 4,
 "nbformat_minor": 2
}