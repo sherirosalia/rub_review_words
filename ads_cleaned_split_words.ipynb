{
 "cells": [
  {
   "cell_type": "code",
   "execution_count": 1,
   "metadata": {},
   "outputs": [],
   "source": [
    "import collections\n",
    "import re\n",
    "import os\n",
    "import pandas as pd\n",
    "import numpy as np\n",
    "import string\n",
    "import json\n",
    "import string\n",
    "import csv\n",
    "\n",
    "\n",
    ""
   ]
  },
  {
   "cell_type": "code",
   "execution_count": 2,
   "metadata": {},
   "outputs": [
    {
     "output_type": "execute_result",
     "data": {
      "text/plain": "                  name         phone  \\\n12455  Lilly Asian Spa  904-379-1415   \n\n                                                 address  \\\n12455  6817 Southpoint Pkwy #1701               Jacks...   \n\n                                                page_url  \\\n12455  https://www.rubmaps.ch/erotic-massage-lilly-as...   \n\n                                            search_field  \n12455  review_blow_job,review_lick_kitty,review_sex,r...  ",
      "text/html": "<div>\n<style scoped>\n    .dataframe tbody tr th:only-of-type {\n        vertical-align: middle;\n    }\n\n    .dataframe tbody tr th {\n        vertical-align: top;\n    }\n\n    .dataframe thead th {\n        text-align: right;\n    }\n</style>\n<table border=\"1\" class=\"dataframe\">\n  <thead>\n    <tr style=\"text-align: right;\">\n      <th></th>\n      <th>name</th>\n      <th>phone</th>\n      <th>address</th>\n      <th>page_url</th>\n      <th>search_field</th>\n    </tr>\n  </thead>\n  <tbody>\n    <tr>\n      <th>12455</th>\n      <td>Lilly Asian Spa</td>\n      <td>904-379-1415</td>\n      <td>6817 Southpoint Pkwy #1701               Jacks...</td>\n      <td>https://www.rubmaps.ch/erotic-massage-lilly-as...</td>\n      <td>review_blow_job,review_lick_kitty,review_sex,r...</td>\n    </tr>\n  </tbody>\n</table>\n</div>"
     },
     "metadata": {},
     "execution_count": 2
    }
   ],
   "source": [
    "flagdf=pd.read_csv('rubmap_review_flags.csv')\n",
    "flagdf.sample()"
   ]
  },
  {
   "cell_type": "code",
   "execution_count": 3,
   "metadata": {},
   "outputs": [
    {
     "output_type": "execute_result",
     "data": {
      "text/plain": "               name                        phone  \\\n0      Massage Time                 480-218-6666   \n1          #1 Asian                 215-833-2408   \n2  #1 Asian Massage  857-233-1917 & 857-417-6775   \n3   #1 Foot Massage                 281-495-8866   \n4   #1 Foot Massage                 817-576-4704   \n\n                                             address  \\\n0    7137 E Main St #1               Mesa, AZ, 85207   \n1  1234 Bridge St               Philadelphia, PA,...   \n2  200 Lincoln St #103               Boston, MA, ...   \n3  12320 Bellaire Blvd, Suite A-4               H...   \n4  2122 Rufe Snow Dr, Ste 112               Kelle...   \n\n                                            page_url  \\\n0  https://www.rubmaps.ch/erotic-massage-massage-...   \n1  https://www.rubmaps.ch/erotic-massage-1-asian-...   \n2  https://www.rubmaps.ch/erotic-massage-1-asian-...   \n3  https://www.rubmaps.ch/erotic-massage-1-foot-m...   \n4  https://www.rubmaps.ch/erotic-massage-1-foot-m...   \n\n                                        search_field  \n0  review_finger_kitty,review_breast_play,review_...  \n1  review_blow_job,review_sex,review_lick_kitty,r...  \n2  review_breast_play, ,review_ass_play,review_ha...  \n3  review_kissing,review_breast_play,review_ass_p...  \n4                   ,review_ass_play,review_hand_job  ",
      "text/html": "<div>\n<style scoped>\n    .dataframe tbody tr th:only-of-type {\n        vertical-align: middle;\n    }\n\n    .dataframe tbody tr th {\n        vertical-align: top;\n    }\n\n    .dataframe thead th {\n        text-align: right;\n    }\n</style>\n<table border=\"1\" class=\"dataframe\">\n  <thead>\n    <tr style=\"text-align: right;\">\n      <th></th>\n      <th>name</th>\n      <th>phone</th>\n      <th>address</th>\n      <th>page_url</th>\n      <th>search_field</th>\n    </tr>\n  </thead>\n  <tbody>\n    <tr>\n      <th>0</th>\n      <td>Massage Time</td>\n      <td>480-218-6666</td>\n      <td>7137 E Main St #1               Mesa, AZ, 85207</td>\n      <td>https://www.rubmaps.ch/erotic-massage-massage-...</td>\n      <td>review_finger_kitty,review_breast_play,review_...</td>\n    </tr>\n    <tr>\n      <th>1</th>\n      <td>#1 Asian</td>\n      <td>215-833-2408</td>\n      <td>1234 Bridge St               Philadelphia, PA,...</td>\n      <td>https://www.rubmaps.ch/erotic-massage-1-asian-...</td>\n      <td>review_blow_job,review_sex,review_lick_kitty,r...</td>\n    </tr>\n    <tr>\n      <th>2</th>\n      <td>#1 Asian Massage</td>\n      <td>857-233-1917 &amp; 857-417-6775</td>\n      <td>200 Lincoln St #103               Boston, MA, ...</td>\n      <td>https://www.rubmaps.ch/erotic-massage-1-asian-...</td>\n      <td>review_breast_play, ,review_ass_play,review_ha...</td>\n    </tr>\n    <tr>\n      <th>3</th>\n      <td>#1 Foot Massage</td>\n      <td>281-495-8866</td>\n      <td>12320 Bellaire Blvd, Suite A-4               H...</td>\n      <td>https://www.rubmaps.ch/erotic-massage-1-foot-m...</td>\n      <td>review_kissing,review_breast_play,review_ass_p...</td>\n    </tr>\n    <tr>\n      <th>4</th>\n      <td>#1 Foot Massage</td>\n      <td>817-576-4704</td>\n      <td>2122 Rufe Snow Dr, Ste 112               Kelle...</td>\n      <td>https://www.rubmaps.ch/erotic-massage-1-foot-m...</td>\n      <td>,review_ass_play,review_hand_job</td>\n    </tr>\n  </tbody>\n</table>\n</div>"
     },
     "metadata": {},
     "execution_count": 3
    }
   ],
   "source": [
    "flagdf= flagdf.replace(r'\\\\n',' ', regex=True) \n",
    "flagdf.head()"
   ]
  },
  {
   "cell_type": "code",
   "execution_count": 4,
   "metadata": {},
   "outputs": [],
   "source": [
    "list=[]\n",
    "for x in flagdf['search_field']:\n",
    "    if x == ' ':\n",
    "        continue\n",
    "    else:\n",
    "        list.append(x)\n",
    "\n",
    "#list"
   ]
  },
  {
   "cell_type": "code",
   "execution_count": 5,
   "metadata": {},
   "outputs": [],
   "source": [
    "with open('search_field.txt', 'w') as filehandle:\n",
    "    for listitem in list:\n",
    "        filehandle.write(listitem)"
   ]
  },
  {
   "cell_type": "code",
   "execution_count": null,
   "metadata": {},
   "outputs": [],
   "source": []
  },
  {
   "cell_type": "code",
   "execution_count": 6,
   "metadata": {},
   "outputs": [
    {
     "output_type": "execute_result",
     "data": {
      "text/plain": "        username provider_name review_date  \\\n7778  IcedPatron         Nancy  04.23 2014   \n\n                                            review_text  \\\n7778  \\n\\n  Parking shouldn't be too hard, nor shoul...   \n\n                                              place_url  \n7778  https://www.rubmaps.ch/erotic-massage-queen-sp...  ",
      "text/html": "<div>\n<style scoped>\n    .dataframe tbody tr th:only-of-type {\n        vertical-align: middle;\n    }\n\n    .dataframe tbody tr th {\n        vertical-align: top;\n    }\n\n    .dataframe thead th {\n        text-align: right;\n    }\n</style>\n<table border=\"1\" class=\"dataframe\">\n  <thead>\n    <tr style=\"text-align: right;\">\n      <th></th>\n      <th>username</th>\n      <th>provider_name</th>\n      <th>review_date</th>\n      <th>review_text</th>\n      <th>place_url</th>\n    </tr>\n  </thead>\n  <tbody>\n    <tr>\n      <th>7778</th>\n      <td>IcedPatron</td>\n      <td>Nancy</td>\n      <td>04.23 2014</td>\n      <td>\\n\\n  Parking shouldn't be too hard, nor shoul...</td>\n      <td>https://www.rubmaps.ch/erotic-massage-queen-sp...</td>\n    </tr>\n  </tbody>\n</table>\n</div>"
     },
     "metadata": {},
     "execution_count": 6
    }
   ],
   "source": [
    "revdf=pd.read_csv('rubmap_allreviews.csv')\n",
    " \n",
    "\n",
    "revdf.sample()"
   ]
  },
  {
   "cell_type": "code",
   "execution_count": 43,
   "metadata": {
    "tags": [
     "outputPrepend"
    ]
   },
   "outputs": [
    {
     "output_type": "execute_result",
     "data": {
      "text/plain": "[\"\\n\\n  Very comfortable room clean not too shabby  \\n\\n\\n\\tBeem here many times always pretty nice and girls are so so most the time but fairly decent you cannot get full service but you can definitely get a good rub and tug there. I did get offered full service next time I went but I doubt bthat's will happen. Will not be able to find the same girl I don't know how looks like anymore.\\r\\n\\r\\nYou're able to rub on their butts filling their tits but that's about it and they'll jerk you off\\n\",\n '\\n\\n  OPEN LATE AND ROOMS TOO SMALL  \\n\\n\\n\\tI HAVE BEEN GOING HERE QUITE A WHILE AND IT HAS TAKEN SEVERAL VISITS BEFORE AMY GAVE ME FS.  SO IF YOU THINK YOUR FITST VISIT WILL GET YOU FS DONT HOLD YOUR BREATH.  MASSAGE WAS GOOD AND ON THE FLIP SHE ASKED HOW I WAS DOING AND WAS TOUCHING ME WHICH WAS GETTING ME IN THE MOOD. AS SOON AS SHE SAW IT GROW SHE ASKED WHAT I WANTED TO DO AND LIKE I ALWAYS WOULD SAY FS NOT EXPECTING HER TO SAY OK SHE SAID $80 I COULDNT GET THE MONEY OUT FAST ENOUGH I WAS SURPRISED SHE WENT ALONG. NOTHING EVTRADIONARY HOWEVER SHE DID LET ME GO DOWNSTAIRS FOR A TASTE AND THE REST WAS YOUR STD. MISS AND A LITTLE DOGGY STYLE. WE WENT RIGHT TO THE HOUR SHE CLEANED ME UP LEFT THE ROOM AND I DIDNT SEE HER UNTIL I WLKED OUT THE DOOR. I SAID THANKS AND GAVE HER A HUG.  I PROBABLY WONT TRY FS WITH HER AGAIN WE JUST DIDNT CLICK AND SHE DIDNT SEEM LIKE SHE ENJOYED IT MUCH EITHER. SHE WILL NEED TO KNOW YOU BEFORE FS SO BE PATIENT WITH HER.\\n',\n \"\\n\\n  Lisa was my girl and she was booming!. I usually don't come to parlors that are close to work for obvious reasons but i was dog tired and needed a much urgent release. They take good care of you here and are very nice and professional when you're booking with them. Lisa was playful and very down to earth.  \\n\\n\\n\\tLisa spoke good english and that made it easy to get along just fine. Lead to room, got comfortable, got undressed and laid down on the table. Got an ok massage and ended up with a nice slow HJ. Lisa says she is from California, and that she recently moved here (Think it was BS to be honest but i followed along) . She said she didn't do everything but later asked for Tip upfront!!! Wow, I must have looked like a newbie cause she kept saying $80 for HJ. I told her $40 is my usual tip for just HJ. She might be worth it if I was really horny. Right now the HJ will do just fine we agreed on $50. Next time she told me to ask for her and she'll take good care of me. Guess that might be code for FS?. lol you tell me. PM if you've done FS with Lisa.\\n\"]"
     },
     "metadata": {},
     "execution_count": 43
    }
   ],
   "source": [
    "reviews=[]\n",
    "for review in revdf['review_text']:\n",
    "    if review is not None:\n",
    "        reviews.append(review)\n",
    "reviews[0:3]"
   ]
  },
  {
   "cell_type": "code",
   "execution_count": 46,
   "metadata": {},
   "outputs": [],
   "source": [
    "reviews_cleaning = []\n",
    "with open('review_text.txt', \"r\") as rev_lines_file:\n",
    "    for line in rev_lines_file:\n",
    "        rev_lines =  line.strip(' \\t')\n",
    "        # rev_lines =  line.strip('\\n\\n')\n",
    "        \n",
    "        reviews_cleaning.append(rev_lines)"
   ]
  },
  {
   "cell_type": "code",
   "execution_count": 47,
   "metadata": {},
   "outputs": [],
   "source": [
    "#overwrite what we just did into original file\n",
    "with open('reviews_cleaned.txt', 'w') as f:\n",
    "    for cleaned_review in reviews_cleaning:\n",
    "        f.write(cleaned_review)"
   ]
  },
  {
   "cell_type": "code",
   "execution_count": 9,
   "metadata": {},
   "outputs": [],
   "source": []
  },
  {
   "cell_type": "code",
   "execution_count": 30,
   "metadata": {},
   "outputs": [],
   "source": [
    "# first get all lines from file\n",
    "with open('search_field.txt', \"r\") as f:\n",
    "    lines = f.readlines()\n",
    "\n",
    "# remove spaces\n",
    "lines = [line.replace(' ', '') for line in lines]\n",
    "# finally, write lines in the file\n",
    "with open('search_field.txt', 'w') as f:\n",
    "    f.writelines(lines)"
   ]
  },
  {
   "cell_type": "code",
   "execution_count": 31,
   "metadata": {
    "tags": [
     "outputPrepend"
    ]
   },
   "outputs": [
    {
     "output_type": "error",
     "ename": "NameError",
     "evalue": "name 'linesplit' is not defined",
     "traceback": [
      "\u001b[0;31m---------------------------------------------------------------------------\u001b[0m",
      "\u001b[0;31mNameError\u001b[0m                                 Traceback (most recent call last)",
      "\u001b[0;32m<ipython-input-31-215b7aa7525e>\u001b[0m in \u001b[0;36m<module>\u001b[0;34m\u001b[0m\n\u001b[0;32m----> 1\u001b[0;31m \u001b[0mdf\u001b[0m\u001b[0;34m=\u001b[0m\u001b[0mpd\u001b[0m\u001b[0;34m.\u001b[0m\u001b[0mDataFrame\u001b[0m\u001b[0;34m(\u001b[0m\u001b[0mlinesplit\u001b[0m\u001b[0;34m(\u001b[0m\u001b[0mline\u001b[0m\u001b[0;34m)\u001b[0m\u001b[0;34m)\u001b[0m\u001b[0;34m\u001b[0m\u001b[0;34m\u001b[0m\u001b[0m\n\u001b[0m\u001b[1;32m      2\u001b[0m \u001b[0mdf\u001b[0m\u001b[0;34m.\u001b[0m\u001b[0mhead\u001b[0m\u001b[0;34m(\u001b[0m\u001b[0;34m)\u001b[0m\u001b[0;34m\u001b[0m\u001b[0;34m\u001b[0m\u001b[0m\n",
      "\u001b[0;31mNameError\u001b[0m: name 'linesplit' is not defined"
     ]
    }
   ],
   "source": [
    "df=pd.DataFrame(linesplit(line))\n",
    "df.head()"
   ]
  },
  {
   "cell_type": "code",
   "execution_count": 768,
   "metadata": {},
   "outputs": [],
   "source": []
  },
  {
   "cell_type": "code",
   "execution_count": 32,
   "metadata": {
    "tags": [
     "outputPrepend"
    ]
   },
   "outputs": [],
   "source": [
    "services_cleaning = []\n",
    "with open('search_field.txt', \"r\") as serv_lines_file:\n",
    "    for line in serv_lines_file:\n",
    "        serv_lines =  line.strip(' ')\n",
    "        serv_lines =  line.strip(',')\n",
    "        serv_lines = line.replace(' ', '')\n",
    "        serv_lines = line.replace(', ,', ',')\n",
    "        serv_lines = line.replace(',  ,', ',')\n",
    "\n",
    "        services_cleaning.append(serv_lines)\n",
    "        \n",
    ""
   ]
  },
  {
   "cell_type": "code",
   "execution_count": 33,
   "metadata": {},
   "outputs": [],
   "source": [
    "#overwrite what we just did into original file\n",
    "with open('search_field.txt', 'w') as f:\n",
    "    for services in services_cleaning:\n",
    "        f.write(services)"
   ]
  },
  {
   "cell_type": "code",
   "execution_count": 34,
   "metadata": {},
   "outputs": [],
   "source": [
    "# first get all lines from file\n",
    "with open('search_field.txt', \"r\") as f:\n",
    "    lines = f.readlines()\n",
    "\n",
    "# remove spaces\n",
    "lines = [line.replace(' ', '') for line in lines]\n",
    "# finally, write lines in the file\n",
    "with open('search_field.txt', 'w') as f:\n",
    "    f.writelines(lines)"
   ]
  },
  {
   "cell_type": "code",
   "execution_count": 35,
   "metadata": {},
   "outputs": [],
   "source": [
    "\n",
    "filename = 'search_field.txt'\n",
    "file = open(filename, 'rt')\n",
    "text = file.read()\n",
    "file.close()"
   ]
  },
  {
   "cell_type": "code",
   "execution_count": 36,
   "metadata": {},
   "outputs": [
    {
     "output_type": "execute_result",
     "data": {
      "text/plain": "['review_finger_kitty',\n 'review_breast_play',\n 'review_ass_play',\n 'review_hand_job',\n 'review_blow_job',\n 'review_sex',\n 'review_lick_kitty',\n 'review_prostate_massage',\n 'review_kissing',\n 'review_finger_kitty',\n '',\n 'review_ass_play',\n 'review_breast_play',\n 'review_hand_jobreview_breast_play',\n '',\n 'review_ass_play',\n 'review_hand_jobreview_kissing',\n 'review_breast_play',\n 'review_ass_play',\n '']"
     },
     "metadata": {},
     "execution_count": 36
    }
   ],
   "source": [
    "words = text.split(',')\n",
    "\n",
    "\n",
    "words = [word.lower() for word in words]\n",
    "words[:20]"
   ]
  },
  {
   "cell_type": "code",
   "execution_count": 37,
   "metadata": {},
   "outputs": [],
   "source": [
    "\n",
    "without_empty_strings = [string for string in words if string != \"\"]"
   ]
  },
  {
   "cell_type": "code",
   "execution_count": 38,
   "metadata": {},
   "outputs": [
    {
     "output_type": "stream",
     "name": "stdout",
     "text": "['reviewfingerkitty', 'reviewbreastplay', 'reviewassplay', 'reviewhandjob', 'reviewblowjob', 'reviewsex', 'reviewlickkitty', 'reviewprostatemassage', 'reviewkissing', 'reviewfingerkitty', 'reviewassplay', 'reviewbreastplay', 'reviewhandjobreviewbreastplay', 'reviewassplay', 'reviewhandjobreviewkissing', 'reviewbreastplay', 'reviewassplay', 'reviewhandjob', 'reviewassplay', 'reviewhandjobreviewsex', 'reviewprostatemassage', 'reviewkissing', 'reviewfingerkitty', 'reviewassplay', 'reviewbreastplay', 'reviewhandjobreviewassplay', 'reviewprostatemassage', 'reviewkissing', 'reviewbreastplay', 'reviewassplay', 'reviewhandjobreviewblowjob', 'reviewlickkitty', 'reviewsex', 'reviewprostatemassage', 'reviewkissing', 'reviewfingerkitty', 'reviewbreastplay', 'reviewassplay', 'reviewhandjobreviewblowjob', 'reviewlickkitty', 'reviewprostatemassage', 'reviewkissing', 'reviewfingerkitty', 'reviewassplay', 'reviewbreastplay', 'reviewhandjobreviewsex', 'reviewlickkitty', 'reviewprostatemassage', 'reviewfingerkitty', 'reviewassplay', 'reviewbreastplay', 'reviewhandjob', 'reviewassplay', 'reviewhandjobreviewlickkitty', 'reviewsex', 'reviewkissing', 'reviewfingerkitty', 'reviewbreastplay', 'reviewassplay', 'reviewhandjobreviewblowjob', 'reviewsex', 'reviewlickkitty', 'reviewprostatemassage', 'reviewkissing', 'reviewfingerkitty', 'reviewbreastplay', 'reviewassplay', 'reviewhandjob', 'reviewlickkitty', 'reviewkissing', 'reviewfingerkitty', 'reviewassplay', 'reviewbreastplay', 'reviewhandjobreviewblowjob', 'reviewsex', 'reviewlickkitty', 'reviewprostatemassage', 'reviewkissing', 'reviewfingerkitty', 'reviewassplay', 'reviewbreastplay', 'reviewhandjobreviewblowjob', 'reviewsex', 'reviewlickkitty', 'reviewprostatemassage', 'reviewkissing', 'reviewfingerkitty', 'reviewbreastplay', 'reviewassplay', 'reviewhandjob', 'reviewassplay', 'reviewassplay', 'reviewbreastplayreviewkissing', 'reviewbreastplay', 'reviewassplay', 'reviewblowjob', 'reviewlickkitty', 'reviewsex', 'reviewkissing', 'reviewfingerkitty', 'reviewbreastplay', 'reviewassplay', 'reviewhandjobreviewprostatemassage', 'reviewkissing', 'reviewbreastplay', 'reviewassplay', 'reviewhandjob', 'reviewprostatemassage', 'reviewassplay', 'reviewbreastplay', 'reviewhandjobreviewsex', 'reviewkissing', 'reviewfingerkitty', 'reviewbreastplay', 'reviewassplay', 'reviewhandjobreviewblowjob', 'reviewsex', 'reviewprostatemassage', 'reviewfingerkitty', 'reviewbreastplay', 'reviewassplay', 'reviewhandjobreviewprostatemassage', 'reviewkissing', 'reviewbreastplay', 'reviewassplay', 'reviewhandjobreviewprostatemassage', 'reviewkissing', 'reviewfingerkitty', 'reviewassplay', 'reviewbreastplay', 'reviewhandjobreviewbreastplay', 'reviewhandjobreviewsex', 'reviewkissing', 'reviewfingerkitty', 'reviewbreastplay', 'reviewassplay', 'reviewhandjobreviewfingerkitty', 'reviewbreastplay', 'reviewassplay', 'reviewhandjobreviewbreastplay', 'reviewassplay', 'reviewhandjobreviewkissing', 'reviewfingerkitty', 'reviewassplay', 'reviewbreastplay', 'reviewhandjobreviewblowjob', 'reviewsex', 'reviewlickkitty', 'reviewprostatemassage', 'reviewkissing', 'reviewfingerkitty', 'reviewbreastplay', 'reviewassplay', 'reviewhandjobreviewprostatemassage', 'reviewbreastplay', 'reviewassplay', 'reviewhandjob', 'reviewkissing', 'reviewbreastplay', 'reviewassplay', 'reviewhandjob', 'reviewlickkitty', 'reviewfingerkitty', 'reviewassplay', 'reviewhandjob', 'reviewbreastplayreviewprostatemassage', 'reviewkissing', 'reviewfingerkitty', 'reviewassplay', 'reviewbreastplay', 'reviewhandjobreviewassplay', 'reviewassplay', 'reviewbreastplay', 'reviewhandjobreviewblowjob', 'reviewsex', 'reviewprostatemassage', 'reviewkissing', 'reviewfingerkitty', 'reviewassplay', 'reviewhandjob', 'reviewbreastplayreviewblowjob', 'reviewfingerkitty', 'reviewbreastplay', 'reviewassplay', 'reviewhandjob', 'reviewassplay', 'reviewsex', 'reviewlickkitty', 'reviewkissing', 'reviewfingerkitty', 'reviewbreastplay', 'reviewassplay', 'reviewhandjob', 'reviewsex', 'reviewbreastplay', 'reviewassplay', 'reviewhandjob', 'reviewblowjob', 'reviewsex', 'reviewlickkitty', 'reviewprostatemassage', 'reviewkissing', 'reviewfingerkitty', 'reviewbreastplay', 'reviewassplay', 'reviewhandjobreviewblowjob', 'reviewlickkitty', 'reviewprostatemassage', 'reviewfingerkitty', 'reviewbreastplay', 'reviewassplay', 'reviewhandjob', 'reviewassplay', 'reviewbreastplay', 'reviewhandjobreviewkissing', 'reviewassplay', 'reviewhandjob', 'reviewbreastplayreviewkissing', 'reviewfingerkitty', 'reviewassplay', 'reviewbreastplay', 'reviewhandjobreviewprostatemassage', 'reviewfingerkitty', 'reviewassplay', 'reviewbreastplay', 'reviewhandjobreviewfingerkitty', 'reviewassplay', 'reviewbreastplay', 'reviewhandjobreviewlickkitty', 'reviewprostatemassage', 'reviewkissing', 'reviewfingerkitty', 'reviewbreastplay', 'reviewassplay', 'reviewhandjobreviewsex', 'reviewlickkitty', 'reviewkissing', 'reviewfingerkitty', 'reviewbreastplay', 'reviewassplay', 'reviewhandjobreviewkissing', 'reviewbreastplay', 'reviewhandjobreviewkissing', 'reviewbreastplay', 'reviewassplay', 'reviewhandjobreviewkissing', 'reviewfingerkitty', 'reviewbreastplay', 'reviewassplay', 'reviewhandjobreviewblowjob', 'reviewkissing', 'reviewfingerkitty', 'reviewbreastplay', 'reviewassplay', 'reviewhandjob', 'reviewfingerkitty', 'reviewbreastplay', 'reviewlickkitty', 'reviewsex', 'reviewkissing', 'reviewfingerkitty', 'reviewbreastplay', 'reviewassplay', 'reviewhandjobreviewprostatemassage', 'reviewkissing', 'reviewfingerkitty', 'reviewassplay', 'reviewbreastplay', 'reviewhandjobreviewblowjob', 'reviewlickkitty', 'reviewsex', 'reviewkissing', 'reviewfingerkitty', 'reviewbreastplay', 'reviewassplay', 'reviewhandjobreviewlickkitty', 'reviewprostatemassage', 'reviewkissing', 'reviewfingerkitty', 'reviewassplay', 'reviewbreastplay', 'reviewhandjobreviewsex', 'reviewlickkitty', 'reviewprostatemassage', 'reviewkissing', 'reviewfingerkitty', 'reviewbreastplay', 'reviewassplay', 'reviewhandjob', 'reviewassplay', 'reviewbreastplay', 'reviewhandjobreviewfingerkitty', 'reviewbreastplay', 'reviewassplay', 'reviewhandjobreviewprostatemassage', 'reviewbreastplay', 'reviewassplay', 'reviewhandjobreviewfingerkitty', 'reviewassplay', 'reviewbreastplay']\n"
    }
   ],
   "source": [
    "\n",
    "table = str.maketrans('', '', string.punctuation)\n",
    "stripped = [w.translate(table) for w in without_empty_strings]\n",
    "print(stripped[:300])"
   ]
  },
  {
   "cell_type": "code",
   "execution_count": null,
   "metadata": {},
   "outputs": [],
   "source": []
  },
  {
   "cell_type": "code",
   "execution_count": 39,
   "metadata": {},
   "outputs": [
    {
     "output_type": "error",
     "ename": "NameError",
     "evalue": "name 'top_100' is not defined",
     "traceback": [
      "\u001b[0;31m---------------------------------------------------------------------------\u001b[0m",
      "\u001b[0;31mNameError\u001b[0m                                 Traceback (most recent call last)",
      "\u001b[0;32m<ipython-input-39-ba2b30773587>\u001b[0m in \u001b[0;36m<module>\u001b[0;34m\u001b[0m\n\u001b[1;32m      1\u001b[0m \u001b[0;32mfrom\u001b[0m \u001b[0mcollections\u001b[0m \u001b[0;32mimport\u001b[0m \u001b[0mCounter\u001b[0m\u001b[0;34m\u001b[0m\u001b[0;34m\u001b[0m\u001b[0m\n\u001b[1;32m      2\u001b[0m \u001b[0mservice_top_100\u001b[0m \u001b[0;34m=\u001b[0m \u001b[0mCounter\u001b[0m\u001b[0;34m(\u001b[0m\u001b[0mwithout_empty_strings\u001b[0m\u001b[0;34m)\u001b[0m\u001b[0;34m.\u001b[0m\u001b[0mmost_common\u001b[0m\u001b[0;34m(\u001b[0m\u001b[0;36m100\u001b[0m\u001b[0;34m)\u001b[0m\u001b[0;34m\u001b[0m\u001b[0;34m\u001b[0m\u001b[0m\n\u001b[0;32m----> 3\u001b[0;31m \u001b[0mprint\u001b[0m\u001b[0;34m(\u001b[0m\u001b[0mtop_100\u001b[0m\u001b[0;34m)\u001b[0m\u001b[0;34m\u001b[0m\u001b[0;34m\u001b[0m\u001b[0m\n\u001b[0m",
      "\u001b[0;31mNameError\u001b[0m: name 'top_100' is not defined"
     ]
    }
   ],
   "source": [
    "from collections import Counter\n",
    "service_top_100 = Counter(without_empty_strings).most_common(100)\n",
    "print(top_100)"
   ]
  },
  {
   "cell_type": "code",
   "execution_count": 40,
   "metadata": {},
   "outputs": [
    {
     "output_type": "execute_result",
     "data": {
      "text/plain": "                                  key_word  frequency\n0                          review_ass_play      15119\n1                       review_breast_play      13543\n2                      review_finger_kitty       9059\n3                           review_kissing       7518\n4                          review_hand_job       5150\n5                        review_lick_kitty       4930\n6                               review_sex       4743\n7                  review_prostate_massage       4330\n8           review_hand_jobreview_blow_job       3194\n9                review_hand_jobreview_sex       1746\n10       review_hand_jobreview_breast_play       1524\n11  review_hand_jobreview_prostate_massage       1388\n12        review_hand_jobreview_lick_kitty       1196\n13                         review_blow_job        950\n14           review_hand_jobreview_kissing        885\n15      review_hand_jobreview_finger_kitty        645\n16          review_hand_jobreview_ass_play        546\n17       review_breast_playreview_blow_job        102\n18          review_hand_jobreview_hand_job         90\n19          review_ass_playreview_blow_job         55",
      "text/html": "<div>\n<style scoped>\n    .dataframe tbody tr th:only-of-type {\n        vertical-align: middle;\n    }\n\n    .dataframe tbody tr th {\n        vertical-align: top;\n    }\n\n    .dataframe thead th {\n        text-align: right;\n    }\n</style>\n<table border=\"1\" class=\"dataframe\">\n  <thead>\n    <tr style=\"text-align: right;\">\n      <th></th>\n      <th>key_word</th>\n      <th>frequency</th>\n    </tr>\n  </thead>\n  <tbody>\n    <tr>\n      <th>0</th>\n      <td>review_ass_play</td>\n      <td>15119</td>\n    </tr>\n    <tr>\n      <th>1</th>\n      <td>review_breast_play</td>\n      <td>13543</td>\n    </tr>\n    <tr>\n      <th>2</th>\n      <td>review_finger_kitty</td>\n      <td>9059</td>\n    </tr>\n    <tr>\n      <th>3</th>\n      <td>review_kissing</td>\n      <td>7518</td>\n    </tr>\n    <tr>\n      <th>4</th>\n      <td>review_hand_job</td>\n      <td>5150</td>\n    </tr>\n    <tr>\n      <th>5</th>\n      <td>review_lick_kitty</td>\n      <td>4930</td>\n    </tr>\n    <tr>\n      <th>6</th>\n      <td>review_sex</td>\n      <td>4743</td>\n    </tr>\n    <tr>\n      <th>7</th>\n      <td>review_prostate_massage</td>\n      <td>4330</td>\n    </tr>\n    <tr>\n      <th>8</th>\n      <td>review_hand_jobreview_blow_job</td>\n      <td>3194</td>\n    </tr>\n    <tr>\n      <th>9</th>\n      <td>review_hand_jobreview_sex</td>\n      <td>1746</td>\n    </tr>\n    <tr>\n      <th>10</th>\n      <td>review_hand_jobreview_breast_play</td>\n      <td>1524</td>\n    </tr>\n    <tr>\n      <th>11</th>\n      <td>review_hand_jobreview_prostate_massage</td>\n      <td>1388</td>\n    </tr>\n    <tr>\n      <th>12</th>\n      <td>review_hand_jobreview_lick_kitty</td>\n      <td>1196</td>\n    </tr>\n    <tr>\n      <th>13</th>\n      <td>review_blow_job</td>\n      <td>950</td>\n    </tr>\n    <tr>\n      <th>14</th>\n      <td>review_hand_jobreview_kissing</td>\n      <td>885</td>\n    </tr>\n    <tr>\n      <th>15</th>\n      <td>review_hand_jobreview_finger_kitty</td>\n      <td>645</td>\n    </tr>\n    <tr>\n      <th>16</th>\n      <td>review_hand_jobreview_ass_play</td>\n      <td>546</td>\n    </tr>\n    <tr>\n      <th>17</th>\n      <td>review_breast_playreview_blow_job</td>\n      <td>102</td>\n    </tr>\n    <tr>\n      <th>18</th>\n      <td>review_hand_jobreview_hand_job</td>\n      <td>90</td>\n    </tr>\n    <tr>\n      <th>19</th>\n      <td>review_ass_playreview_blow_job</td>\n      <td>55</td>\n    </tr>\n  </tbody>\n</table>\n</div>"
     },
     "metadata": {},
     "execution_count": 40
    }
   ],
   "source": [
    "# create DataFrame using data \n",
    "service_df = pd.DataFrame(service_top_100, columns =['key_word', 'frequency'], index=None) \n",
    "  \n",
    "service_df.head(20)"
   ]
  },
  {
   "cell_type": "code",
   "execution_count": 41,
   "metadata": {},
   "outputs": [
    {
     "output_type": "execute_result",
     "data": {
      "text/plain": "              key_word  frequency\n0      review_ass_play      15119\n1   review_breast_play      13543\n2  review_finger_kitty       9059\n3       review_kissing       7518\n4      review_hand_job       5150",
      "text/html": "<div>\n<style scoped>\n    .dataframe tbody tr th:only-of-type {\n        vertical-align: middle;\n    }\n\n    .dataframe tbody tr th {\n        vertical-align: top;\n    }\n\n    .dataframe thead th {\n        text-align: right;\n    }\n</style>\n<table border=\"1\" class=\"dataframe\">\n  <thead>\n    <tr style=\"text-align: right;\">\n      <th></th>\n      <th>key_word</th>\n      <th>frequency</th>\n    </tr>\n  </thead>\n  <tbody>\n    <tr>\n      <th>0</th>\n      <td>review_ass_play</td>\n      <td>15119</td>\n    </tr>\n    <tr>\n      <th>1</th>\n      <td>review_breast_play</td>\n      <td>13543</td>\n    </tr>\n    <tr>\n      <th>2</th>\n      <td>review_finger_kitty</td>\n      <td>9059</td>\n    </tr>\n    <tr>\n      <th>3</th>\n      <td>review_kissing</td>\n      <td>7518</td>\n    </tr>\n    <tr>\n      <th>4</th>\n      <td>review_hand_job</td>\n      <td>5150</td>\n    </tr>\n  </tbody>\n</table>\n</div>"
     },
     "metadata": {},
     "execution_count": 41
    }
   ],
   "source": [
    "service_df=service_df.reset_index(drop=True)\n",
    "service_df.head()"
   ]
  },
  {
   "cell_type": "code",
   "execution_count": 42,
   "metadata": {},
   "outputs": [],
   "source": [
    "service_df.to_csv('top_100_service.csv', index=False)"
   ]
  },
  {
   "cell_type": "code",
   "execution_count": null,
   "metadata": {},
   "outputs": [],
   "source": []
  }
 ],
 "metadata": {
  "kernelspec": {
   "display_name": "Python 3",
   "language": "python",
   "name": "python3"
  },
  "language_info": {
   "codemirror_mode": {
    "name": "ipython",
    "version": 3
   },
   "file_extension": ".py",
   "mimetype": "text/x-python",
   "name": "python",
   "nbconvert_exporter": "python",
   "pygments_lexer": "ipython3",
   "version": "3.7.6-final"
  }
 },
 "nbformat": 4,
 "nbformat_minor": 2
}